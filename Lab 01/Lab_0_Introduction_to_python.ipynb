{
  "cells": [
    {
      "cell_type": "markdown",
      "metadata": {
        "colab_type": "text",
        "id": "view-in-github"
      },
      "source": [
        "<a href=\"https://colab.research.google.com/github/m7saikat/IE-7374/blob/master/Lab_0_Introduction_to_python.ipynb\" target=\"_parent\"><img src=\"https://colab.research.google.com/assets/colab-badge.svg\" alt=\"Open In Colab\"/></a>"
      ]
    },
    {
      "cell_type": "markdown",
      "metadata": {
        "colab_type": "text",
        "id": "aQMA1ejtg80M"
      },
      "source": [
        "# Introduction to python"
      ]
    },
    {
      "cell_type": "markdown",
      "metadata": {
        "colab_type": "text",
        "id": "AnTf9-vKhGQR"
      },
      "source": [
        "Python is a widely used general-purpose, high level programming language. It was initially designed by Guido van Rossum in 1991 and developed by Python Software Foundation. It was mainly developed for emphasis on code readability, and its syntax allows programmers to express concepts in fewer lines of code.\n",
        "\n",
        "This introductory lab is an attempt to get you familiarized with python. You can run each code block to verify the results. It is advised to create a copy of this notebook and play with it."
      ]
    },
    {
      "cell_type": "markdown",
      "metadata": {
        "colab_type": "text",
        "id": "kdk-4kw-hhRt"
      },
      "source": [
        "## Operators\n",
        "\n",
        "---\n",
        "\n",
        "\n"
      ]
    },
    {
      "cell_type": "markdown",
      "metadata": {
        "colab_type": "text",
        "id": "VLZrlAzDs3qr"
      },
      "source": [
        "### Arithmatic operators\n",
        "\n",
        "These operators are used for mathematical operations\n",
        "\n",
        "1. `+`  : Addition \n",
        "2. `-`  : Substraction \n",
        "3. `*`  : Multiplication \n",
        "4. `//` : Division (floor)\n",
        "5. `/`\t : Division (float)\n",
        "6. `%`\t : Modulus- returns the remainder when first operand is divided by the second\t\n",
        "\n"
      ]
    },
    {
      "cell_type": "code",
      "execution_count": 1,
      "metadata": {
        "colab": {},
        "colab_type": "code",
        "id": "9vTeez_bq_RP"
      },
      "outputs": [
        {
          "data": {
            "text/plain": [
              "2"
            ]
          },
          "execution_count": 1,
          "metadata": {},
          "output_type": "execute_result"
        }
      ],
      "source": [
        " # Addition\n",
        " 1 + 1\n",
        " # Should return 2"
      ]
    },
    {
      "cell_type": "code",
      "execution_count": 2,
      "metadata": {
        "colab": {},
        "colab_type": "code",
        "id": "D0jApeMFtcyI"
      },
      "outputs": [
        {
          "data": {
            "text/plain": [
              "6"
            ]
          },
          "execution_count": 2,
          "metadata": {},
          "output_type": "execute_result"
        }
      ],
      "source": [
        "# Multiplication\n",
        "2 * 3\n",
        "# Should return 6"
      ]
    },
    {
      "cell_type": "code",
      "execution_count": 3,
      "metadata": {
        "colab": {},
        "colab_type": "code",
        "id": "mg4WMxITOobf"
      },
      "outputs": [
        {
          "data": {
            "text/plain": [
              "3"
            ]
          },
          "execution_count": 3,
          "metadata": {},
          "output_type": "execute_result"
        }
      ],
      "source": [
        "# // Division\n",
        "10//3\n",
        "# Should return 3: 10 divided by 3 is 3.33, the //operator returns the floor value of 3.33 = 3"
      ]
    },
    {
      "cell_type": "code",
      "execution_count": 4,
      "metadata": {
        "colab": {},
        "colab_type": "code",
        "id": "Z5FcSkNxPDK8"
      },
      "outputs": [
        {
          "data": {
            "text/plain": [
              "3.3333333333333335"
            ]
          },
          "execution_count": 4,
          "metadata": {},
          "output_type": "execute_result"
        }
      ],
      "source": [
        "# / Division\n",
        "10/3\n",
        "# Should return 3.33: 10 divided by 3 is 3.33, the / operator returns the float value of 3.33 = 3.33"
      ]
    },
    {
      "cell_type": "code",
      "execution_count": 5,
      "metadata": {
        "colab": {},
        "colab_type": "code",
        "id": "RuobgBXzPMEL"
      },
      "outputs": [
        {
          "data": {
            "text/plain": [
              "1"
            ]
          },
          "execution_count": 5,
          "metadata": {},
          "output_type": "execute_result"
        }
      ],
      "source": [
        "# % Modulus\n",
        "10 % 3\n",
        "# Should return 1: When 10 is divided by 3 the remainder is 1"
      ]
    },
    {
      "cell_type": "markdown",
      "metadata": {
        "colab_type": "text",
        "id": "qT_nZ1uMQVqZ"
      },
      "source": [
        "### Relational Operator\n",
        "\n",
        "Used for comparing values. They usually return `True` or `False`\n",
        "\n",
        "1. `>`\t: Greater than - True, if left operand is greater than the right (syntax - x > y)\n",
        "2. `<`\t:  Less than - True, if left operand is less than the right\t(syntax - `x < y`)\n",
        "3. `==`\t:  Equal to - True, if both operands are equal\t(syntax - x == y)\n",
        "4. `!=`\t :  Not equal to - True, if operands are not equal\t(syntax - x != y)\n",
        "5. `>=` :\tGreater than or equal to - True, if left operand is greater than or equal to the right\t(syntax - x >= y)\n",
        "6. `<=`\t: Less than or equal to - True, if left operand is less than or equal to the right\t(syntax - x <= y) "
      ]
    },
    {
      "cell_type": "code",
      "execution_count": 6,
      "metadata": {
        "colab": {},
        "colab_type": "code",
        "id": "o3ihGkoxSp01"
      },
      "outputs": [
        {
          "name": "stdout",
          "output_type": "stream",
          "text": [
            "True\n"
          ]
        }
      ],
      "source": [
        "# > : Greater than\n",
        "print(6>3)"
      ]
    },
    {
      "cell_type": "code",
      "execution_count": 7,
      "metadata": {
        "colab": {},
        "colab_type": "code",
        "id": "acAwbMNgTAlg"
      },
      "outputs": [
        {
          "name": "stdout",
          "output_type": "stream",
          "text": [
            "False\n"
          ]
        }
      ],
      "source": [
        "# > : Less than\n",
        "print (6 < 3)"
      ]
    },
    {
      "cell_type": "code",
      "execution_count": 8,
      "metadata": {
        "colab": {},
        "colab_type": "code",
        "id": "Tx8phHoGTG9e"
      },
      "outputs": [
        {
          "name": "stdout",
          "output_type": "stream",
          "text": [
            "True\n"
          ]
        }
      ],
      "source": [
        "# == : Equal to\n",
        "print (6 == 6)"
      ]
    },
    {
      "cell_type": "code",
      "execution_count": 9,
      "metadata": {
        "colab": {},
        "colab_type": "code",
        "id": "hklE32LrTqhc"
      },
      "outputs": [
        {
          "name": "stdout",
          "output_type": "stream",
          "text": [
            "False\n"
          ]
        }
      ],
      "source": [
        "# != : Not Equal to\n",
        "print (6 != 6)"
      ]
    },
    {
      "cell_type": "code",
      "execution_count": 10,
      "metadata": {
        "colab": {},
        "colab_type": "code",
        "id": "UELR4jjhTyFZ"
      },
      "outputs": [
        {
          "name": "stdout",
          "output_type": "stream",
          "text": [
            "True\n",
            "True\n"
          ]
        }
      ],
      "source": [
        "# >= : Greater than or equal to\n",
        "print (6 >= 6)\n",
        "print (6 >= 3)"
      ]
    },
    {
      "cell_type": "code",
      "execution_count": 11,
      "metadata": {
        "colab": {},
        "colab_type": "code",
        "id": "upuemOFKT9q2"
      },
      "outputs": [
        {
          "name": "stdout",
          "output_type": "stream",
          "text": [
            "True\n",
            "False\n"
          ]
        }
      ],
      "source": [
        "# <= : Less than or equal to\n",
        "print (6 <= 6)\n",
        "print (6 <= 3)"
      ]
    },
    {
      "cell_type": "markdown",
      "metadata": {
        "colab_type": "text",
        "id": "_ejs4f4-UGtl"
      },
      "source": [
        "### Logical Operators\n",
        "\n",
        "They are used to join expressions using AND, OR, NOT clauses\n",
        "\n",
        "1. `and`: \tLogical AND - True if both the operands are true\n",
        "2. `or` :\tLogical OR - True if either of the operands is true\n",
        "3. `not`:\tLogical NOT - True if operand is false"
      ]
    },
    {
      "cell_type": "markdown",
      "metadata": {
        "colab_type": "text",
        "id": "oXdEmEqrDJTI"
      },
      "source": [
        "##### `not` : Logical NOT"
      ]
    },
    {
      "cell_type": "code",
      "execution_count": 12,
      "metadata": {
        "colab": {},
        "colab_type": "code",
        "id": "dDVyV9-GXYUu"
      },
      "outputs": [
        {
          "name": "stdout",
          "output_type": "stream",
          "text": [
            "False\n"
          ]
        }
      ],
      "source": [
        "\n",
        "a = True\n",
        "# Complement of True, is False\n",
        "print (not a)\n"
      ]
    },
    {
      "cell_type": "code",
      "execution_count": 13,
      "metadata": {
        "colab": {},
        "colab_type": "code",
        "id": "pbcceoKOCmNK"
      },
      "outputs": [
        {
          "name": "stdout",
          "output_type": "stream",
          "text": [
            "True\n"
          ]
        }
      ],
      "source": [
        "b = False\n",
        "# Complement of False, is True\n",
        "print (not b)"
      ]
    },
    {
      "cell_type": "markdown",
      "metadata": {
        "colab_type": "text",
        "id": "xUm2MXp_DOO-"
      },
      "source": [
        "##### `AND` : Logical AND "
      ]
    },
    {
      "cell_type": "code",
      "execution_count": 14,
      "metadata": {
        "colab": {},
        "colab_type": "code",
        "id": "PMy0JM1EVzuu"
      },
      "outputs": [
        {
          "name": "stdout",
          "output_type": "stream",
          "text": [
            "True\n"
          ]
        }
      ],
      "source": [
        "# The expression (6 == 6) and (7 != 8) is True since both the exression individually is True           \n",
        "print ((6 == 6) and (7 != 8))"
      ]
    },
    {
      "cell_type": "code",
      "execution_count": 15,
      "metadata": {
        "colab": {},
        "colab_type": "code",
        "id": "U13buzGcDEUU"
      },
      "outputs": [
        {
          "name": "stdout",
          "output_type": "stream",
          "text": [
            "False\n"
          ]
        }
      ],
      "source": [
        "# The expression (6 == 6) and (7 == 8) is False since the one of the exression (7 == 8) is False\n",
        "print ((6 == 6) and (7 == 8))"
      ]
    },
    {
      "cell_type": "markdown",
      "metadata": {
        "colab_type": "text",
        "id": "CkJE5-oVDc2w"
      },
      "source": [
        "##### `OR` : Logical OR    "
      ]
    },
    {
      "cell_type": "code",
      "execution_count": 16,
      "metadata": {
        "colab": {},
        "colab_type": "code",
        "id": "rZxXnsB5WjFb"
      },
      "outputs": [
        {
          "name": "stdout",
          "output_type": "stream",
          "text": [
            "True True\n"
          ]
        }
      ],
      "source": [
        "# The expression (6 == 6) or (7 == 8) is True since the one of the exression (6 == 6) is True\n",
        "print ((6 == 6) or (7 == 8),6 == 6)"
      ]
    },
    {
      "cell_type": "code",
      "execution_count": 17,
      "metadata": {
        "colab": {},
        "colab_type": "code",
        "id": "RODQZmLPDiZz"
      },
      "outputs": [
        {
          "name": "stdout",
          "output_type": "stream",
          "text": [
            "False True\n"
          ]
        }
      ],
      "source": [
        "# The expression (6 != 6) or (7 == 8) is False since the both of the exression is False\n",
        "print ((6 != 6) or (7 == 8),6 == 6)"
      ]
    },
    {
      "cell_type": "markdown",
      "metadata": {
        "colab_type": "text",
        "id": "AzUsbuYla8QA"
      },
      "source": [
        "##### **Try out the following examples**"
      ]
    },
    {
      "cell_type": "code",
      "execution_count": 18,
      "metadata": {
        "colab": {},
        "colab_type": "code",
        "id": "ChUAn3VZFpqq"
      },
      "outputs": [],
      "source": [
        "# Try substracting 7 from 15 (Write your code below) \n",
        "\n",
        "# Try dividing 20 by 4 (Write your code below) \n",
        "\n",
        "# What should be the output of print (9//2)\n",
        "\n"
      ]
    },
    {
      "cell_type": "markdown",
      "metadata": {
        "colab_type": "text",
        "id": "dTBST3neHdCP"
      },
      "source": [
        "## Variables\n",
        "\n",
        "---\n",
        "\n"
      ]
    },
    {
      "cell_type": "markdown",
      "metadata": {
        "colab_type": "text",
        "id": "mrUIZi7QHepm"
      },
      "source": [
        "We can also store data into variables."
      ]
    },
    {
      "cell_type": "code",
      "execution_count": 19,
      "metadata": {
        "colab": {},
        "colab_type": "code",
        "id": "21Pkr14sHlyI"
      },
      "outputs": [],
      "source": [
        "s = 'hello world'"
      ]
    },
    {
      "cell_type": "markdown",
      "metadata": {
        "colab_type": "text",
        "id": "uTZ6WRaKIDaL"
      },
      "source": [
        "We can print the value stored in a variable using print statement"
      ]
    },
    {
      "cell_type": "code",
      "execution_count": 20,
      "metadata": {
        "colab": {},
        "colab_type": "code",
        "id": "B7ZhVxZtH7gP"
      },
      "outputs": [
        {
          "name": "stdout",
          "output_type": "stream",
          "text": [
            "hello world\n"
          ]
        }
      ],
      "source": [
        "print (s)"
      ]
    },
    {
      "cell_type": "markdown",
      "metadata": {
        "colab_type": "text",
        "id": "SPZMyYd8INJf"
      },
      "source": [
        "Python does not mandate decalring variables as integers, strings, characters. Data irrespective of it's type can be assigned to any variable. \n",
        "\n",
        "One thing to note here, is that variable names should not be amongst the [keywords](https://www.programiz.com/python-programming/keyword-list) defined in python.\n",
        "\n",
        "Some more examples are as follows."
      ]
    },
    {
      "cell_type": "code",
      "execution_count": 21,
      "metadata": {
        "colab": {},
        "colab_type": "code",
        "id": "Z_dEmnygJAEm"
      },
      "outputs": [
        {
          "name": "stdout",
          "output_type": "stream",
          "text": [
            "5\n"
          ]
        }
      ],
      "source": [
        "a = 5\n",
        "print(a)"
      ]
    },
    {
      "cell_type": "markdown",
      "metadata": {
        "colab_type": "text",
        "id": "LxSeRNMuGERs"
      },
      "source": [
        "##### That being said, in python we can categorize data into the following types.\n",
        "* **Text** type:\t    `str`\n",
        "* **Numeric** types:\t`int`, `float`\n",
        "* **Sequence** types:\t`list`, `tuple`\n",
        "* **Mapping** type:\t  `dict`\n",
        "* **Set** type: \t    `set`, \n",
        "* **Boolean** types:\t  `bool`\n",
        "\n",
        "Given a data stored in a variable, we can find out it's data type, using python's in buit `type` function. \n",
        "\n",
        "Here are few examples of how it works\n"
      ]
    },
    {
      "cell_type": "code",
      "execution_count": 22,
      "metadata": {
        "colab": {},
        "colab_type": "code",
        "id": "Q8JIRFonI6S2"
      },
      "outputs": [
        {
          "name": "stdout",
          "output_type": "stream",
          "text": [
            "<class 'int'>\n",
            "<class 'float'>\n",
            "<class 'str'>\n",
            "Variable boolean contains data of type <class 'bool'>\n"
          ]
        }
      ],
      "source": [
        "num = 5\n",
        "print (type(num))\n",
        "\n",
        "decimal = 3.14\n",
        "print(type(decimal))\n",
        "\n",
        "string = 'Reinforcement Learning'\n",
        "print (type(string))\n",
        "\n",
        "boolean = False\n",
        "print ('Variable {} contains data of type {}'.format('boolean', type(boolean)))"
      ]
    },
    {
      "cell_type": "markdown",
      "metadata": {
        "colab_type": "text",
        "id": "dtWLffYeJM-Q"
      },
      "source": [
        "We can also store expressions in a variable. For example"
      ]
    },
    {
      "cell_type": "code",
      "execution_count": 23,
      "metadata": {
        "colab": {},
        "colab_type": "code",
        "id": "zSQ8P0BLJq1H"
      },
      "outputs": [
        {
          "name": "stdout",
          "output_type": "stream",
          "text": [
            "100\n"
          ]
        }
      ],
      "source": [
        "a = 5 * 20\n",
        "print (a)"
      ]
    },
    {
      "cell_type": "code",
      "execution_count": 24,
      "metadata": {
        "colab": {},
        "colab_type": "code",
        "id": "x9FM8tItJyKi"
      },
      "outputs": [
        {
          "name": "stdout",
          "output_type": "stream",
          "text": [
            "81\n"
          ]
        }
      ],
      "source": [
        "x = 5\n",
        "y = 4\n",
        "z = (x + y)*(x + y)\n",
        "print(z)"
      ]
    },
    {
      "cell_type": "markdown",
      "metadata": {
        "colab_type": "text",
        "id": "FbpWriW_4-tj"
      },
      "source": [
        "Variables can also store boolean values. The two boolean value are : `True` and `False`"
      ]
    },
    {
      "cell_type": "code",
      "execution_count": 25,
      "metadata": {
        "colab": {},
        "colab_type": "code",
        "id": "xJ7y7fHW5Ca0"
      },
      "outputs": [
        {
          "name": "stdout",
          "output_type": "stream",
          "text": [
            "True\n"
          ]
        }
      ],
      "source": [
        "bool_true = True\n",
        "print(bool_true)"
      ]
    },
    {
      "cell_type": "code",
      "execution_count": 26,
      "metadata": {
        "colab": {},
        "colab_type": "code",
        "id": "t1fQVb-85NZA"
      },
      "outputs": [
        {
          "name": "stdout",
          "output_type": "stream",
          "text": [
            "False\n"
          ]
        }
      ],
      "source": [
        "bool_false = False\n",
        "print (bool_false)"
      ]
    },
    {
      "cell_type": "markdown",
      "metadata": {
        "colab_type": "text",
        "id": "3P5AYMk1_Eyl"
      },
      "source": [
        "Expressions can aso result in Boolean values, for example,"
      ]
    },
    {
      "cell_type": "code",
      "execution_count": 27,
      "metadata": {
        "colab": {},
        "colab_type": "code",
        "id": "kbJlOHIu_XXZ"
      },
      "outputs": [
        {
          "name": "stdout",
          "output_type": "stream",
          "text": [
            "True\n"
          ]
        }
      ],
      "source": [
        "exprsn = (6 > 3)\n",
        "print(exprsn)"
      ]
    },
    {
      "cell_type": "code",
      "execution_count": 28,
      "metadata": {
        "colab": {},
        "colab_type": "code",
        "id": "aBd_CrXu_hFv"
      },
      "outputs": [
        {
          "name": "stdout",
          "output_type": "stream",
          "text": [
            "False\n"
          ]
        }
      ],
      "source": [
        "exprsn = (16 < 10)\n",
        "print(exprsn)"
      ]
    },
    {
      "cell_type": "code",
      "execution_count": 29,
      "metadata": {
        "colab": {},
        "colab_type": "code",
        "id": "z96Gyi3U_nFQ"
      },
      "outputs": [
        {
          "name": "stdout",
          "output_type": "stream",
          "text": [
            "True\n"
          ]
        }
      ],
      "source": [
        "exprsn = (7 == 7)\n",
        "print(exprsn)"
      ]
    },
    {
      "cell_type": "markdown",
      "metadata": {
        "colab_type": "text",
        "id": "uJBvtbU7_sbA"
      },
      "source": [
        "Example of some "
      ]
    },
    {
      "cell_type": "markdown",
      "metadata": {
        "colab_type": "text",
        "id": "7i6Z1cHWaxJr"
      },
      "source": [
        "**Try out the following example**"
      ]
    },
    {
      "cell_type": "code",
      "execution_count": 30,
      "metadata": {
        "colab": {},
        "colab_type": "code",
        "id": "egSuy18dKAWA"
      },
      "outputs": [],
      "source": [
        "# Given a cube of side 5 unit length, store the volume of the cube in a variable V and print it.(Write your code below) \n",
        "# Hint : Volume of a cube is given by : side * side * side\n"
      ]
    },
    {
      "cell_type": "markdown",
      "metadata": {
        "colab_type": "text",
        "id": "HDY6zR6CuJHC"
      },
      "source": [
        "## Strings\n",
        "\n",
        "---\n",
        "\n"
      ]
    },
    {
      "cell_type": "markdown",
      "metadata": {
        "colab_type": "text",
        "id": "4e6bUceXuQAs"
      },
      "source": [
        "Like all high level languages Python supports operations like concatenation of strings, trimming strings , etc. Some of these string operations can be made easy by using python."
      ]
    },
    {
      "cell_type": "markdown",
      "metadata": {
        "colab_type": "text",
        "id": "HNBYjzdmGSFZ"
      },
      "source": [
        "#### Concatenation of two strings.\n"
      ]
    },
    {
      "cell_type": "markdown",
      "metadata": {
        "colab_type": "text",
        "id": "3cpRM2j7GrNE"
      },
      "source": [
        "##### The usual practice to add two string is shown below"
      ]
    },
    {
      "cell_type": "code",
      "execution_count": 31,
      "metadata": {
        "colab": {},
        "colab_type": "code",
        "id": "EcwvizDVuPVF"
      },
      "outputs": [
        {
          "data": {
            "text/plain": [
              "'Hello World'"
            ]
          },
          "execution_count": 31,
          "metadata": {},
          "output_type": "execute_result"
        }
      ],
      "source": [
        "'Hello ' + 'World'"
      ]
    },
    {
      "cell_type": "code",
      "execution_count": 32,
      "metadata": {
        "colab": {},
        "colab_type": "code",
        "id": "APCqYoCzG6wL"
      },
      "outputs": [
        {
          "data": {
            "text/plain": [
              "'Sky is blue.'"
            ]
          },
          "execution_count": 32,
          "metadata": {},
          "output_type": "execute_result"
        }
      ],
      "source": [
        "'Sky ' + 'is ' + 'blue.'"
      ]
    },
    {
      "cell_type": "markdown",
      "metadata": {
        "colab_type": "text",
        "id": "NULVzbJhHFcN"
      },
      "source": [
        "##### However, the industry standard to do string concatenation is using the .format method as shown below."
      ]
    },
    {
      "cell_type": "code",
      "execution_count": 33,
      "metadata": {
        "colab": {},
        "colab_type": "code",
        "id": "vy2hrRggGYiX"
      },
      "outputs": [
        {
          "data": {
            "text/plain": [
              "'Hello World'"
            ]
          },
          "execution_count": 33,
          "metadata": {},
          "output_type": "execute_result"
        }
      ],
      "source": [
        "'{} {}'.format('Hello', 'World')"
      ]
    },
    {
      "cell_type": "code",
      "execution_count": 34,
      "metadata": {
        "colab": {},
        "colab_type": "code",
        "id": "ihSCABunHOn9"
      },
      "outputs": [
        {
          "data": {
            "text/plain": [
              "'Sky is blue'"
            ]
          },
          "execution_count": 34,
          "metadata": {},
          "output_type": "execute_result"
        }
      ],
      "source": [
        "'{} {} {}'.format('Sky', 'is', 'blue')"
      ]
    },
    {
      "cell_type": "markdown",
      "metadata": {
        "colab_type": "text",
        "id": "qFmTI1UGaC_T"
      },
      "source": [
        "Given the following variables."
      ]
    },
    {
      "cell_type": "code",
      "execution_count": 35,
      "metadata": {
        "colab": {},
        "colab_type": "code",
        "id": "U9UnSx2DYyig"
      },
      "outputs": [],
      "source": [
        "variable_1 = 'foxes'\n",
        "variable_2 = 'jumped'\n",
        "variable_3 = 'wall'"
      ]
    },
    {
      "cell_type": "markdown",
      "metadata": {
        "colab_type": "text",
        "id": "HrDA7PPWZ0EG"
      },
      "source": [
        "To print the statement - The 2 lazy foxes jumped over the wall.', we can use .format as follows."
      ]
    },
    {
      "cell_type": "code",
      "execution_count": 36,
      "metadata": {
        "colab": {},
        "colab_type": "code",
        "id": "8ySUDOqWZyTG"
      },
      "outputs": [
        {
          "data": {
            "text/plain": [
              "'The 2 lazy foxes jumped over the wall.'"
            ]
          },
          "execution_count": 36,
          "metadata": {},
          "output_type": "execute_result"
        }
      ],
      "source": [
        "'The {} lazy {} {} over the {}.'.format(2, variable_1, variable_2, variable_3)"
      ]
    },
    {
      "cell_type": "markdown",
      "metadata": {
        "colab_type": "text",
        "id": "LzupykFbYF0L"
      },
      "source": [
        "**Try out the following example**"
      ]
    },
    {
      "cell_type": "code",
      "execution_count": 37,
      "metadata": {
        "colab": {},
        "colab_type": "code",
        "id": "vK-9Of_zYLIZ"
      },
      "outputs": [],
      "source": [
        "your_name = ' replace with your name'\n",
        "your_pastime = 'replace with pastime'\n"
      ]
    },
    {
      "cell_type": "code",
      "execution_count": 38,
      "metadata": {
        "colab": {},
        "colab_type": "code",
        "id": "7hXK2KcgajOb"
      },
      "outputs": [],
      "source": [
        "# Print : 'My name is <your_name> and my favorite pastime is <your_pastime>',\n",
        "# given the variables mentioned above using .format (Write your code below) \n",
        "\n"
      ]
    },
    {
      "cell_type": "markdown",
      "metadata": {
        "colab_type": "text",
        "id": "V1mIOVFUcFT3"
      },
      "source": [
        "#### String operations."
      ]
    },
    {
      "cell_type": "markdown",
      "metadata": {
        "colab_type": "text",
        "id": "oNHdiZzAchkX"
      },
      "source": [
        "##### Changing cases"
      ]
    },
    {
      "cell_type": "code",
      "execution_count": 39,
      "metadata": {
        "colab": {},
        "colab_type": "code",
        "id": "LQnXYdZlcPmj"
      },
      "outputs": [
        {
          "data": {
            "text/plain": [
              "'HELLO WORLD'"
            ]
          },
          "execution_count": 39,
          "metadata": {},
          "output_type": "execute_result"
        }
      ],
      "source": [
        "'hello world'.upper()"
      ]
    },
    {
      "cell_type": "code",
      "execution_count": 40,
      "metadata": {
        "colab": {},
        "colab_type": "code",
        "id": "BX5cxhrbcWTV"
      },
      "outputs": [
        {
          "data": {
            "text/plain": [
              "'hello world'"
            ]
          },
          "execution_count": 40,
          "metadata": {},
          "output_type": "execute_result"
        }
      ],
      "source": [
        "'HELLO WORLD'.lower()"
      ]
    },
    {
      "cell_type": "markdown",
      "metadata": {
        "colab_type": "text",
        "id": "i5q0IqMgclsE"
      },
      "source": [
        "##### Finding the length of the a string"
      ]
    },
    {
      "cell_type": "code",
      "execution_count": 41,
      "metadata": {
        "colab": {},
        "colab_type": "code",
        "id": "2ge7py2pcqvx"
      },
      "outputs": [
        {
          "data": {
            "text/plain": [
              "11"
            ]
          },
          "execution_count": 41,
          "metadata": {},
          "output_type": "execute_result"
        }
      ],
      "source": [
        "len('Hello World')"
      ]
    },
    {
      "cell_type": "markdown",
      "metadata": {
        "colab_type": "text",
        "id": "bItlP936c7Wd"
      },
      "source": [
        "##### Trimming strings"
      ]
    },
    {
      "cell_type": "code",
      "execution_count": 42,
      "metadata": {
        "colab": {},
        "colab_type": "code",
        "id": "GdCIEHkwc69n"
      },
      "outputs": [
        {
          "data": {
            "text/plain": [
              "'World'"
            ]
          },
          "execution_count": 42,
          "metadata": {},
          "output_type": "execute_result"
        }
      ],
      "source": [
        "hello_world = 'Hello, World!'\n",
        "hello_world[7:12]"
      ]
    },
    {
      "cell_type": "markdown",
      "metadata": {
        "colab_type": "text",
        "id": "a4kN5uaddYqq"
      },
      "source": [
        "##### Splitting Strings"
      ]
    },
    {
      "cell_type": "code",
      "execution_count": 43,
      "metadata": {
        "colab": {},
        "colab_type": "code",
        "id": "aEJP5KcldhSw"
      },
      "outputs": [
        {
          "name": "stdout",
          "output_type": "stream",
          "text": [
            "['Reinforcement', 'learning', 'is', 'fun!', 'The', 'opportunities', 'here', 'are', 'endless.']\n"
          ]
        }
      ],
      "source": [
        "a = 'Reinforcement learning is fun! The opportunities here are endless.'\n",
        "# The is a delimiter. The string splits at this specified separator. If is not provided then any white space is a separator.\n",
        "print(a.split(' '))"
      ]
    },
    {
      "cell_type": "markdown",
      "metadata": {
        "colab_type": "text",
        "id": "SfR1bdnzdqSD"
      },
      "source": [
        "##  Built-in Data Structures\n",
        "\n",
        "---\n",
        "\n"
      ]
    },
    {
      "cell_type": "markdown",
      "metadata": {
        "colab_type": "text",
        "id": "RQjVFc5Td0C7"
      },
      "source": [
        "### Lists"
      ]
    },
    {
      "cell_type": "markdown",
      "metadata": {
        "colab_type": "text",
        "id": "mIriWcy-d3nW"
      },
      "source": [
        "Like array list is and ordered collection of data types. for example"
      ]
    },
    {
      "cell_type": "code",
      "execution_count": 44,
      "metadata": {
        "colab": {},
        "colab_type": "code",
        "id": "VIoupZsEdzSt"
      },
      "outputs": [
        {
          "name": "stdout",
          "output_type": "stream",
          "text": [
            "['apple', 'banana', 'cherry']\n"
          ]
        }
      ],
      "source": [
        "a_list = ['apple', 'banana', 'cherry']\n",
        "print (a_list)"
      ]
    },
    {
      "cell_type": "markdown",
      "metadata": {
        "colab_type": "text",
        "id": "QbGisyQujGie"
      },
      "source": [
        "##### Accessing the list"
      ]
    },
    {
      "cell_type": "markdown",
      "metadata": {
        "colab_type": "text",
        "id": "eOUm-_7Yb5-r"
      },
      "source": [
        "Lists can be accessed using their index numbers. a list starts with index 0 followed by 1, 2 so on and so forth ending in l-1 where l which is the last element of the list, where l is the length of the list."
      ]
    },
    {
      "cell_type": "code",
      "execution_count": 45,
      "metadata": {
        "colab": {},
        "colab_type": "code",
        "id": "3EVNj8frjI6Q"
      },
      "outputs": [
        {
          "name": "stdout",
          "output_type": "stream",
          "text": [
            "apple banana cherry\n"
          ]
        }
      ],
      "source": [
        "print (a_list[0], a_list[1], a_list[2])"
      ]
    },
    {
      "cell_type": "markdown",
      "metadata": {
        "colab_type": "text",
        "id": "Lt47QB7OecgX"
      },
      "source": [
        "In python, Lists can also be accessed in the reverse order, using negative index. The last element of the list is -1 the penultimate element is -2, so on and so forth ending in -l denoting the first element of the list, where l is the length of the list."
      ]
    },
    {
      "cell_type": "code",
      "execution_count": 46,
      "metadata": {
        "colab": {},
        "colab_type": "code",
        "id": "khp5-me_jdy7"
      },
      "outputs": [
        {
          "name": "stdout",
          "output_type": "stream",
          "text": [
            "cherry banana apple\n"
          ]
        }
      ],
      "source": [
        "print (a_list[-1], a_list[-2], a_list[-3])"
      ]
    },
    {
      "cell_type": "markdown",
      "metadata": {
        "colab_type": "text",
        "id": "tvK163rmj1XZ"
      },
      "source": [
        "##### Appending to a list "
      ]
    },
    {
      "cell_type": "code",
      "execution_count": 47,
      "metadata": {
        "colab": {},
        "colab_type": "code",
        "id": "6C-ZPU33kBNj"
      },
      "outputs": [
        {
          "name": "stdout",
          "output_type": "stream",
          "text": [
            "['apple', 'banana', 'cherry', 'orange']\n"
          ]
        }
      ],
      "source": [
        "a_list.append('orange')\n",
        "print (a_list)"
      ]
    },
    {
      "cell_type": "markdown",
      "metadata": {
        "colab_type": "text",
        "id": "9FCv0RsVkhEu"
      },
      "source": [
        "##### Length of the list \n"
      ]
    },
    {
      "cell_type": "code",
      "execution_count": 48,
      "metadata": {
        "colab": {},
        "colab_type": "code",
        "id": "nw1Y7kZ4kkCb"
      },
      "outputs": [
        {
          "name": "stdout",
          "output_type": "stream",
          "text": [
            "4\n"
          ]
        }
      ],
      "source": [
        "print (len(a_list))"
      ]
    },
    {
      "cell_type": "markdown",
      "metadata": {
        "colab_type": "text",
        "id": "_OgOvXfVkqMO"
      },
      "source": [
        "##### Looping over a list"
      ]
    },
    {
      "cell_type": "code",
      "execution_count": 49,
      "metadata": {
        "colab": {},
        "colab_type": "code",
        "id": "VrxTIK2OkpWF"
      },
      "outputs": [
        {
          "name": "stdout",
          "output_type": "stream",
          "text": [
            "apple is a delicious fruit\n",
            "banana is a delicious fruit\n",
            "cherry is a delicious fruit\n",
            "orange is a delicious fruit\n"
          ]
        }
      ],
      "source": [
        "for fruit in a_list:\n",
        "  print ('{} is a delicious fruit'.format(fruit))"
      ]
    },
    {
      "cell_type": "markdown",
      "metadata": {
        "colab_type": "text",
        "id": "lhZxHNPxrRo2"
      },
      "source": [
        "##### List methods\n",
        "\n",
        "The following are the most common used methods used when working with lists. More detailed information on list can be found [here](https://www.programiz.com/python-programming/list)\n",
        "\n",
        "1. `append()`:\tAdds an element at the end of the list\n",
        "2. `clear()`:\tRemoves all the elements from the list\n",
        "3. `copy()`:\tReturns a copy of the list\n",
        "4. `count()`:\tReturns the number of elements with the specified value\n",
        "5. `extend()`:\tAdds the elements of a list (or any iterable), to the end of the current list\n",
        "6. `index()`:\tReturns the index of the first element with the specified value\n",
        "7. `insert()`:\tAdds an element at the specified position\n",
        "8. `pop()`:\tRemoves the element at the specified position\n",
        "9. `remove()`:\tRemoves the item with the specified value\n",
        "10. `reverse()`:\tReverses the order of the list\n",
        "11. `sort()`:\tSorts the list"
      ]
    },
    {
      "cell_type": "markdown",
      "metadata": {
        "colab_type": "text",
        "id": "TpWZLbDHll4Q"
      },
      "source": [
        "##### **Try out the following example**"
      ]
    },
    {
      "cell_type": "code",
      "execution_count": 50,
      "metadata": {
        "colab": {},
        "colab_type": "code",
        "id": "Kp8iAGiFsBMZ"
      },
      "outputs": [],
      "source": [
        "# Write a Python program to count the number of strings, form the list given below, where the string length is 4 or more\n",
        "a_list = ['Reinforcement', 'Learning', 'is', 'fun.']\n"
      ]
    },
    {
      "cell_type": "markdown",
      "metadata": {
        "colab_type": "text",
        "id": "u8khr1arr4pI"
      },
      "source": [
        "### Sets"
      ]
    },
    {
      "cell_type": "markdown",
      "metadata": {
        "colab_type": "text",
        "id": "hKMNeNkqr7GQ"
      },
      "source": [
        "A set is another data structure that serves as an unordered list with no duplicate items. Below, we show how to create a set, add things to the set, test if an item is in the set, and perform common set operations (difference, intersection, union)"
      ]
    },
    {
      "cell_type": "code",
      "execution_count": 51,
      "metadata": {
        "colab": {},
        "colab_type": "code",
        "id": "ZhRTrUTzr-Yr"
      },
      "outputs": [
        {
          "name": "stdout",
          "output_type": "stream",
          "text": [
            "{'square', 'triangle', 'circle'}\n"
          ]
        }
      ],
      "source": [
        "shapes = ['circle','square','triangle','circle']\n",
        "setOfShapes = set(shapes)\n",
        "print (setOfShapes)"
      ]
    },
    {
      "cell_type": "code",
      "execution_count": 52,
      "metadata": {
        "colab": {},
        "colab_type": "code",
        "id": "81ihPgNqPcln"
      },
      "outputs": [
        {
          "name": "stdout",
          "output_type": "stream",
          "text": [
            "{2, 3, 4, 5}\n"
          ]
        }
      ],
      "source": [
        "num_list = [2,2,3,4,2,2,4,5,3,2]\n",
        "set_of_num_list = set(num_list)\n",
        "print(set_of_num_list)"
      ]
    },
    {
      "cell_type": "markdown",
      "metadata": {
        "colab_type": "text",
        "id": "ucvBQ4HXsh_l"
      },
      "source": [
        "**Note** that the objects in the set are unordered; you cannot assume that their traversal or print order will be the same across machines!"
      ]
    },
    {
      "cell_type": "markdown",
      "metadata": {
        "colab_type": "text",
        "id": "9oOhVnvCsG2_"
      },
      "source": [
        "##### Adding an element to a set"
      ]
    },
    {
      "cell_type": "code",
      "execution_count": 53,
      "metadata": {
        "colab": {},
        "colab_type": "code",
        "id": "7Xk3j_4esL_e"
      },
      "outputs": [],
      "source": [
        "setOfShapes.add('polygon')"
      ]
    },
    {
      "cell_type": "markdown",
      "metadata": {
        "colab_type": "text",
        "id": "FNJ3gef-sN70"
      },
      "source": [
        "##### Usage of in statement in sets"
      ]
    },
    {
      "cell_type": "code",
      "execution_count": 54,
      "metadata": {
        "colab": {},
        "colab_type": "code",
        "id": "eQAXPoIosVLV"
      },
      "outputs": [
        {
          "name": "stdout",
          "output_type": "stream",
          "text": [
            "True\n",
            "False\n"
          ]
        }
      ],
      "source": [
        "print ('circle' in setOfShapes)\n",
        "print ('rhombus' in setOfShapes)"
      ]
    },
    {
      "cell_type": "markdown",
      "metadata": {
        "colab_type": "text",
        "id": "n8FHGmHOzI0K"
      },
      "source": [
        "### Tupples"
      ]
    },
    {
      "cell_type": "markdown",
      "metadata": {
        "colab_type": "text",
        "id": "0lSWs3nKzN0p"
      },
      "source": [
        "A data structure similar to the list is the tuple, which is like a list except that it is immutable once it is created (i.e. you cannot change its content once created). Note that tuples are surrounded with parentheses while lists have square brackets. \n",
        "\n",
        "The benifit of tupples is that they are more explicit with memory, while lists require overhead, hence operations over tupples are faster than operations over list."
      ]
    },
    {
      "cell_type": "code",
      "execution_count": 55,
      "metadata": {
        "colab": {},
        "colab_type": "code",
        "id": "bQJYfxpnzPPW"
      },
      "outputs": [],
      "source": [
        "tupple_example = (2,4)"
      ]
    },
    {
      "cell_type": "markdown",
      "metadata": {
        "colab_type": "text",
        "id": "SiKQI7uhzpBm"
      },
      "source": [
        "##### Operations on tupple"
      ]
    },
    {
      "cell_type": "code",
      "execution_count": 56,
      "metadata": {
        "colab": {},
        "colab_type": "code",
        "id": "f40UE8yYzvx2"
      },
      "outputs": [
        {
          "name": "stdout",
          "output_type": "stream",
          "text": [
            "2\n"
          ]
        }
      ],
      "source": [
        "print(tupple_example[0])"
      ]
    },
    {
      "cell_type": "code",
      "execution_count": 57,
      "metadata": {
        "colab": {},
        "colab_type": "code",
        "id": "1dhn-Cfdz5RD"
      },
      "outputs": [
        {
          "name": "stdout",
          "output_type": "stream",
          "text": [
            "2 4\n"
          ]
        }
      ],
      "source": [
        "# Deconstruction of tupple: Tupples can be deconstructed using the below syntax\n",
        "\n",
        "two, four = tupple_example\n",
        "print (two, four)"
      ]
    },
    {
      "cell_type": "markdown",
      "metadata": {
        "colab_type": "text",
        "id": "PRnVfWWPlf1i"
      },
      "source": [
        "### Dictionary"
      ]
    },
    {
      "cell_type": "markdown",
      "metadata": {
        "colab_type": "text",
        "id": "kVrGua13svfL"
      },
      "source": [
        "The dictionary stores a map from one type of object (the key) to another (the value). The key must be an immutable type (string, number). The value can be any Python data type.\n",
        "\n",
        "Keys in dictionary needs to be unique. Duplicate keys are not allowed, however duplicate values are allowed, i.e two differnt keys can have same values, however two different values cannot have same keys"
      ]
    },
    {
      "cell_type": "code",
      "execution_count": 58,
      "metadata": {
        "colab": {},
        "colab_type": "code",
        "id": "3-VYnoLYsu_Z"
      },
      "outputs": [
        {
          "name": "stdout",
          "output_type": "stream",
          "text": [
            "{1: 'knuth', 2: 'Turing', 4: 'Richie'}\n"
          ]
        }
      ],
      "source": [
        " students = {1: 'knuth', 2: 'Turing', 4: 'Richie'}\n",
        " print(students)"
      ]
    },
    {
      "cell_type": "code",
      "execution_count": 59,
      "metadata": {
        "colab": {},
        "colab_type": "code",
        "id": "r9QlYldjs8f7"
      },
      "outputs": [
        {
          "data": {
            "text/plain": [
              "'knuth'"
            ]
          },
          "execution_count": 59,
          "metadata": {},
          "output_type": "execute_result"
        }
      ],
      "source": [
        " students[1]"
      ]
    },
    {
      "cell_type": "markdown",
      "metadata": {
        "colab_type": "text",
        "id": "O2xE2dprtpCI"
      },
      "source": [
        "Mapping can also be between a key and a list, for example"
      ]
    },
    {
      "cell_type": "code",
      "execution_count": 60,
      "metadata": {
        "colab": {},
        "colab_type": "code",
        "id": "i28SXYwfunKN"
      },
      "outputs": [],
      "source": [
        "students[1] = ['Knuth', 'Smith', 42]"
      ]
    },
    {
      "cell_type": "code",
      "execution_count": 61,
      "metadata": {
        "colab": {},
        "colab_type": "code",
        "id": "SmYJnWABuohQ"
      },
      "outputs": [
        {
          "data": {
            "text/plain": [
              "{1: ['Knuth', 'Smith', 42], 2: 'Turing', 4: 'Richie'}"
            ]
          },
          "execution_count": 61,
          "metadata": {},
          "output_type": "execute_result"
        }
      ],
      "source": [
        "students"
      ]
    },
    {
      "cell_type": "markdown",
      "metadata": {
        "colab_type": "text",
        "id": "eAz618f4wlXC"
      },
      "source": [
        "#### Dictionary operations"
      ]
    },
    {
      "cell_type": "markdown",
      "metadata": {
        "colab_type": "text",
        "id": "j8_tA6uqu6Na"
      },
      "source": [
        "##### Getting all the keys of a dictionary"
      ]
    },
    {
      "cell_type": "code",
      "execution_count": 62,
      "metadata": {
        "colab": {},
        "colab_type": "code",
        "id": "6LbCdCrxuztn"
      },
      "outputs": [
        {
          "data": {
            "text/plain": [
              "dict_keys([1, 2, 4])"
            ]
          },
          "execution_count": 62,
          "metadata": {},
          "output_type": "execute_result"
        }
      ],
      "source": [
        " students.keys()"
      ]
    },
    {
      "cell_type": "markdown",
      "metadata": {
        "colab_type": "text",
        "id": "kittF2gKvxuU"
      },
      "source": [
        "##### Getting all the values in a dictionary."
      ]
    },
    {
      "cell_type": "code",
      "execution_count": 63,
      "metadata": {
        "colab": {},
        "colab_type": "code",
        "id": "Tqipi5SHv68K"
      },
      "outputs": [
        {
          "data": {
            "text/plain": [
              "dict_values([['Knuth', 'Smith', 42], 'Turing', 'Richie'])"
            ]
          },
          "execution_count": 63,
          "metadata": {},
          "output_type": "execute_result"
        }
      ],
      "source": [
        " students.values()"
      ]
    },
    {
      "cell_type": "markdown",
      "metadata": {
        "colab_type": "text",
        "id": "nuRoQI8BwITT"
      },
      "source": [
        "##### Getting the length of the dictionary"
      ]
    },
    {
      "cell_type": "code",
      "execution_count": 64,
      "metadata": {
        "colab": {},
        "colab_type": "code",
        "id": "lhqNra9Lv9lR"
      },
      "outputs": [
        {
          "data": {
            "text/plain": [
              "3"
            ]
          },
          "execution_count": 64,
          "metadata": {},
          "output_type": "execute_result"
        }
      ],
      "source": [
        "len(students)"
      ]
    },
    {
      "cell_type": "markdown",
      "metadata": {
        "colab_type": "text",
        "id": "StSCwT7WwvQo"
      },
      "source": [
        "##### **Try out the following example**"
      ]
    },
    {
      "cell_type": "markdown",
      "metadata": {
        "colab_type": "text",
        "id": "5BppeAYpxaPs"
      },
      "source": [
        "Given the a dictionary of fruits and their prices, print `'<fruit_name> is too expensive'` if the price of fruit is more than or equal to 4 dollars, or else print `<fruit_name> costs <price_of_fruit>`"
      ]
    },
    {
      "cell_type": "code",
      "execution_count": 65,
      "metadata": {
        "colab": {},
        "colab_type": "code",
        "id": "8Y3MeYOYw7lZ"
      },
      "outputs": [],
      "source": [
        "fruitPrices = {'apples': 4.00, 'oranges': 4.50, 'cherry': 1.75, 'bananna': 1.15}\n",
        "\n"
      ]
    },
    {
      "cell_type": "markdown",
      "metadata": {
        "colab_type": "text",
        "id": "tPWucg87n9Pg"
      },
      "source": [
        "## Conditional statements\n",
        "\n",
        "---\n",
        "\n"
      ]
    },
    {
      "cell_type": "markdown",
      "metadata": {
        "colab_type": "text",
        "id": "Py6jgFMcoTZI"
      },
      "source": [
        "### If statement\n",
        "\n",
        "If statement in python behaves in the same manner as it does in other programming languages."
      ]
    },
    {
      "cell_type": "code",
      "execution_count": 66,
      "metadata": {
        "colab": {},
        "colab_type": "code",
        "id": "twN7fpIdobLl"
      },
      "outputs": [
        {
          "name": "stdout",
          "output_type": "stream",
          "text": [
            "reward_right_action is lesser than reward_right_action\n"
          ]
        }
      ],
      "source": [
        "reward_right_action = 6\n",
        "reward_left_action = 2\n",
        "if reward_left_action < reward_right_action:\n",
        "  print(\"reward_right_action is lesser than reward_right_action\")\n",
        "else:\n",
        "  print(\"reward_right_action is not less reward_right_action\")"
      ]
    },
    {
      "cell_type": "markdown",
      "metadata": {
        "colab_type": "text",
        "id": "izinx1lMpCfW"
      },
      "source": [
        "### if elif else statement\n",
        "\n",
        "The elif keyword is pythons way of saying \"if the previous conditions were not true, then try this condition\"."
      ]
    },
    {
      "cell_type": "code",
      "execution_count": 67,
      "metadata": {
        "colab": {},
        "colab_type": "code",
        "id": "gu9_FqK-o6HG"
      },
      "outputs": [
        {
          "name": "stdout",
          "output_type": "stream",
          "text": [
            "reward_right_action is equal to reward_right_action\n"
          ]
        }
      ],
      "source": [
        "reward_right_action = 6\n",
        "reward_left_action = 6\n",
        "if reward_left_action < reward_right_action:\n",
        "  print(\"reward_right_action is lesser than reward_right_action\")\n",
        "elif  reward_left_action == reward_right_action:\n",
        "  print(\"reward_right_action is equal to reward_right_action\")\n",
        "else:\n",
        "  print(\"reward_right_action is greater than reward_right_action\")"
      ]
    },
    {
      "cell_type": "markdown",
      "metadata": {
        "colab_type": "text",
        "id": "f-WqDzAPhB2i"
      },
      "source": [
        "## Loops in Python\n",
        "\n",
        "---\n"
      ]
    },
    {
      "cell_type": "markdown",
      "metadata": {
        "colab_type": "text",
        "id": "9oV4clAzhPsP"
      },
      "source": [
        "The following type of loops are available in python\n"
      ]
    },
    {
      "cell_type": "markdown",
      "metadata": {
        "colab_type": "text",
        "id": "Y4EMGM2shYvo"
      },
      "source": [
        "### For in loop\n",
        "\n",
        "For loops are usually used to sequentially traverse a list. The `for in` loop is almost equivalent to `for` loop in other languages. The `for in` loop iterates over the list using the element of the list instead of the index."
      ]
    },
    {
      "cell_type": "code",
      "execution_count": 68,
      "metadata": {
        "colab": {},
        "colab_type": "code",
        "id": "uYP13ZRWhYKq"
      },
      "outputs": [
        {
          "name": "stdout",
          "output_type": "stream",
          "text": [
            "Reinforcement\n",
            "Learning\n",
            "is\n",
            "fun.\n"
          ]
        }
      ],
      "source": [
        "# Iteration over a list\n",
        "a_list = ['Reinforcement', 'Learning', 'is', 'fun.']\n",
        "for word in a_list:\n",
        "  print (word)"
      ]
    },
    {
      "cell_type": "code",
      "execution_count": 69,
      "metadata": {
        "colab": {},
        "colab_type": "code",
        "id": "8oW2JtNYirD2"
      },
      "outputs": [
        {
          "name": "stdout",
          "output_type": "stream",
          "text": [
            "R\n",
            "L\n",
            " \n",
            "i\n",
            "s\n",
            " \n",
            "f\n",
            "u\n",
            "n\n",
            ".\n"
          ]
        }
      ],
      "source": [
        "# Iterating over a String \n",
        "s = \"RL is fun.\"     \n",
        "for i in s : \n",
        "    print(i) "
      ]
    },
    {
      "cell_type": "code",
      "execution_count": 70,
      "metadata": {
        "colab": {},
        "colab_type": "code",
        "id": "kpSo2UQqhPOX"
      },
      "outputs": [
        {
          "name": "stdout",
          "output_type": "stream",
          "text": [
            "reward : 5\n",
            "action : Turn right\n"
          ]
        }
      ],
      "source": [
        "# Iterating over dictionary \n",
        "action_reward = dict()  \n",
        "action_reward['reward'] = 5\n",
        "action_reward['action'] = 'Turn right'\n",
        "for i in action_reward : \n",
        "    print('{} : {}'.format(i, action_reward[i])) "
      ]
    },
    {
      "cell_type": "markdown",
      "metadata": {
        "colab_type": "text",
        "id": "AwYmc09GnHbr"
      },
      "source": [
        "### For loop using index"
      ]
    },
    {
      "cell_type": "markdown",
      "metadata": {
        "colab_type": "text",
        "id": "quoWcUkRnERJ"
      },
      "source": [
        " We can also use the index of elements in the sequence to iterate. The key idea is to first calculate the length of the list and in iterate over the sequence within the range of this length."
      ]
    },
    {
      "cell_type": "code",
      "execution_count": 71,
      "metadata": {
        "colab": {},
        "colab_type": "code",
        "id": "pWFbpvPpnJZc"
      },
      "outputs": [
        {
          "name": "stdout",
          "output_type": "stream",
          "text": [
            "4\n",
            "0 : Reinforcement\n",
            "1 : Learning\n",
            "2 : is\n",
            "3 : fun.\n"
          ]
        }
      ],
      "source": [
        "a_list = ['Reinforcement', 'Learning', 'is', 'fun.']\n",
        "print(len(a_list))\n",
        "for index in range(len(a_list)): \n",
        "    print ('{} : {}'.format(index, a_list[index])) "
      ]
    },
    {
      "cell_type": "code",
      "execution_count": 72,
      "metadata": {
        "colab": {},
        "colab_type": "code",
        "id": "WiMDORmaqyF8"
      },
      "outputs": [
        {
          "name": "stdout",
          "output_type": "stream",
          "text": [
            "[4, 9, 25, 1024, 25, 64, 81, 16, 36, 441]\n"
          ]
        }
      ],
      "source": [
        "# Code to print the square of each elemnent in a given list.\n",
        "num_array = [2,3,5,32,5,8,9,4,6,21]\n",
        "square_array = []\n",
        "for digit in num_array:\n",
        "  square_array.append(digit**2)\n",
        "print (square_array)"
      ]
    },
    {
      "cell_type": "markdown",
      "metadata": {
        "colab_type": "text",
        "id": "ATsBs67JnfF0"
      },
      "source": [
        "### While loop\n",
        "\n",
        "While loop is used to execute a block of statements repeatedly until a given a condition is satisfied. And when the condition becomes false, the line immediately after the loop in program is executed."
      ]
    },
    {
      "cell_type": "code",
      "execution_count": 73,
      "metadata": {
        "colab": {},
        "colab_type": "code",
        "id": "TT2Y9L91ntYL"
      },
      "outputs": [
        {
          "name": "stdout",
          "output_type": "stream",
          "text": [
            "Reinforcement Learning\n",
            "Reinforcement Learning\n",
            "Reinforcement Learning\n"
          ]
        }
      ],
      "source": [
        "# While loop till count is less than 3\n",
        "count = 0\n",
        "while (count < 3):     \n",
        "    count = count + 1\n",
        "    print(\"Reinforcement Learning\") "
      ]
    },
    {
      "cell_type": "markdown",
      "metadata": {
        "colab_type": "text",
        "id": "sWrPW4PU0HoI"
      },
      "source": [
        "## Functions\n",
        "\n",
        "---\n",
        "\n"
      ]
    },
    {
      "cell_type": "markdown",
      "metadata": {
        "colab_type": "text",
        "id": "WoKF84Hk0PqL"
      },
      "source": [
        "A function is a set of statements that take inputs, do some specific computation and produces output. The idea is to put some commonly or repeatedly done task together and make a function, so that instead of writing the same code again and again for different inputs, we can call the function."
      ]
    },
    {
      "cell_type": "markdown",
      "metadata": {
        "colab_type": "text",
        "id": "47-i4tee1I-a"
      },
      "source": [
        "A function starts with the keyword `def` folowed by the name of the function."
      ]
    },
    {
      "cell_type": "code",
      "execution_count": 74,
      "metadata": {
        "colab": {},
        "colab_type": "code",
        "id": "EJxWvjNb15JQ"
      },
      "outputs": [],
      "source": [
        "# Fucntion to check if a number is prime or not\n",
        "# If given number is greater than 1 \n",
        "def is_prime(num):\n",
        "    if num > 1:   \n",
        "        for i in range(2, num//2): \n",
        "        # If num is divisible by any number between  \n",
        "        # 2 and n / 2, it is not prime  \n",
        "          if (num % i) == 0: \n",
        "              return False\n",
        "        return True\n",
        "    return False"
      ]
    },
    {
      "cell_type": "code",
      "execution_count": 75,
      "metadata": {
        "colab": {},
        "colab_type": "code",
        "id": "yczy_ZMJ2yOJ"
      },
      "outputs": [
        {
          "data": {
            "text/plain": [
              "False"
            ]
          },
          "execution_count": 75,
          "metadata": {},
          "output_type": "execute_result"
        }
      ],
      "source": [
        "is_prime(33)"
      ]
    },
    {
      "cell_type": "code",
      "execution_count": 76,
      "metadata": {
        "colab": {},
        "colab_type": "code",
        "id": "KbC_gaAX2z48"
      },
      "outputs": [
        {
          "data": {
            "text/plain": [
              "True"
            ]
          },
          "execution_count": 76,
          "metadata": {},
          "output_type": "execute_result"
        }
      ],
      "source": [
        "is_prime(7)"
      ]
    },
    {
      "cell_type": "code",
      "execution_count": 77,
      "metadata": {
        "colab": {},
        "colab_type": "code",
        "id": "7A20xmjXwzO7"
      },
      "outputs": [],
      "source": [
        "# Function to take 3 strings and append them into a sentence.\n",
        "def make_sentence(word_1, word_2, word_3):\n",
        "  new_sentence = \"{} {} {}.\".format(word_1, word_2, word_3)\n",
        "  return new_sentence"
      ]
    },
    {
      "cell_type": "code",
      "execution_count": 78,
      "metadata": {
        "colab": {},
        "colab_type": "code",
        "id": "l_L_ujRoxVXl"
      },
      "outputs": [
        {
          "data": {
            "text/plain": [
              "'Learning is fun.'"
            ]
          },
          "execution_count": 78,
          "metadata": {},
          "output_type": "execute_result"
        }
      ],
      "source": [
        "make_sentence('Learning', 'is', 'fun')"
      ]
    },
    {
      "cell_type": "markdown",
      "metadata": {
        "colab_type": "text",
        "id": "JHNi6Qea2_uS"
      },
      "source": [
        "##### **Try out the following example**"
      ]
    },
    {
      "cell_type": "markdown",
      "metadata": {
        "colab_type": "text",
        "id": "jnWmRKiZ4lhb"
      },
      "source": [
        "Write a function that takes a number and returns true if it is a even number and false if it is a odd number."
      ]
    },
    {
      "cell_type": "code",
      "execution_count": 79,
      "metadata": {
        "colab": {},
        "colab_type": "code",
        "id": "LBBlaIj53A7G"
      },
      "outputs": [],
      "source": [
        "#def even_odd(num):\n",
        " "
      ]
    },
    {
      "cell_type": "markdown",
      "metadata": {
        "colab_type": "text",
        "id": "4gLRlSm2xiKa"
      },
      "source": [
        "## Numpy\n",
        "\n",
        "\n",
        "---\n",
        "\n",
        "\n",
        "NumPy is a package that defines a multi-dimensional array object and associated fast math functions that operate on it. It also provides simple routines for linear algebra. \n",
        "\n",
        "We would be using numpy to generate random gaussian distribution, generating random numbers, lists, etc. A very complete manual by the principal author of Numpy, Travis Oliphant, can be [found here](http://csc.ucdavis.edu/~chaos/courses/nlp/Software/NumPyBook.pdf). \n",
        "\n",
        "Further documentation is available from http://docs.scipy.org/doc/"
      ]
    },
    {
      "cell_type": "markdown",
      "metadata": {
        "colab_type": "text",
        "id": "kgBJfVAjzGbZ"
      },
      "source": [
        "### Arrays\n",
        "\n",
        "A numpy array is a grid of values, all of the same type, and is indexed by a tuple of nonnegative integers. The number of dimensions is the rank of the array; the shape of an array is a tuple of integers giving the size of the array along each dimension.\n",
        "\n",
        "We can initialize numpy arrays from nested Python lists, and access elements using square brackets"
      ]
    },
    {
      "cell_type": "code",
      "execution_count": 80,
      "metadata": {
        "colab": {},
        "colab_type": "code",
        "id": "MicbUH9gzFvu"
      },
      "outputs": [],
      "source": [
        "import numpy as np\n",
        "a = np.array([1, 2, 3])   # Create a rank 1 array"
      ]
    },
    {
      "cell_type": "code",
      "execution_count": 81,
      "metadata": {
        "colab": {},
        "colab_type": "code",
        "id": "Ae7p6X3hPwND"
      },
      "outputs": [
        {
          "name": "stdout",
          "output_type": "stream",
          "text": [
            "Data type of a is <class 'numpy.ndarray'>\n"
          ]
        }
      ],
      "source": [
        "print('Data type of a is {}'.format(type(a)))            # Prints \"<class 'numpy.ndarray'>\""
      ]
    },
    {
      "cell_type": "code",
      "execution_count": 82,
      "metadata": {
        "colab": {},
        "colab_type": "code",
        "id": "GUbNVKqDPy7t"
      },
      "outputs": [
        {
          "name": "stdout",
          "output_type": "stream",
          "text": [
            "Shape of a is (3,)\n"
          ]
        }
      ],
      "source": [
        "print('Shape of a is {}'.format(a.shape))            # Prints \"(3,)\""
      ]
    },
    {
      "cell_type": "code",
      "execution_count": 83,
      "metadata": {
        "colab": {},
        "colab_type": "code",
        "id": "KcevG7eLP3JT"
      },
      "outputs": [
        {
          "name": "stdout",
          "output_type": "stream",
          "text": [
            "The elements of the array are: 1, 2, 3\n"
          ]
        }
      ],
      "source": [
        "print('The elements of the array are: {}, {}, {}'.format(a[0], a[1], a[2]))   # Prints \"1 2 3\""
      ]
    },
    {
      "cell_type": "code",
      "execution_count": 84,
      "metadata": {
        "colab": {},
        "colab_type": "code",
        "id": "1HyIUe7EP5MW"
      },
      "outputs": [
        {
          "name": "stdout",
          "output_type": "stream",
          "text": [
            "The new the array is [5 2 3]\n"
          ]
        }
      ],
      "source": [
        "a[0] = 5                  # Change an element of the array\n",
        "print('The new the array is {}'.format(a))                  # Prints \"[5, 2, 3]\""
      ]
    },
    {
      "cell_type": "code",
      "execution_count": 85,
      "metadata": {
        "colab": {},
        "colab_type": "code",
        "id": "-i7hij0pP-qN"
      },
      "outputs": [
        {
          "name": "stdout",
          "output_type": "stream",
          "text": [
            "The shape of the array is (2, 3)\n",
            "b[0, 0] = 1, b[0, 1]=2, b[1, 0]=4\n"
          ]
        }
      ],
      "source": [
        "b = np.array([[1,2,3],[4,5,6]])    # Create a rank 2 array\n",
        "print('The shape of the array is {}'.format(b.shape))                     # Prints \"(2, 3)\"\n",
        "print('b[0, 0] = {}, b[0, 1]={}, b[1, 0]={}'.format(b[0, 0], b[0, 1], b[1, 0]))   # Prints \"1 2 4\""
      ]
    },
    {
      "cell_type": "markdown",
      "metadata": {
        "colab_type": "text",
        "id": "8tmo2g7_0UAl"
      },
      "source": [
        "Numpy also provides many functions to create arrays:"
      ]
    },
    {
      "cell_type": "code",
      "execution_count": 86,
      "metadata": {
        "colab": {},
        "colab_type": "code",
        "id": "68AMFsch0S0u"
      },
      "outputs": [
        {
          "name": "stdout",
          "output_type": "stream",
          "text": [
            "[[0. 0.]\n",
            " [0. 0.]]\n"
          ]
        }
      ],
      "source": [
        "# the method zeros return a new array of given shape and type, filled with zeros.\n",
        "a = np.zeros((2,2))   # Create an array of all zeros\n",
        "print(a)              # Prints \"[[ 0.  0.]\n",
        "                      #          [ 0.  0.]]\"\n"
      ]
    },
    {
      "cell_type": "code",
      "execution_count": 87,
      "metadata": {
        "colab": {},
        "colab_type": "code",
        "id": "RRZLhF1yQFV5"
      },
      "outputs": [
        {
          "name": "stdout",
          "output_type": "stream",
          "text": [
            "[[1. 1.]]\n"
          ]
        }
      ],
      "source": [
        "# the method ones return a new array of given shape and type, filled with zeros.\n",
        "b = np.ones((1,2))    # Create an array of all ones\n",
        "print(b)              # Prints \"[[ 1.  1.]]\""
      ]
    },
    {
      "cell_type": "markdown",
      "metadata": {
        "colab_type": "text",
        "id": "aRY22-9d02t1"
      },
      "source": [
        "### Creating random numbers/list"
      ]
    },
    {
      "cell_type": "markdown",
      "metadata": {
        "colab_type": "text",
        "id": "W_HhOgaB1rqz"
      },
      "source": [
        "Using numpy to generate an array with 10 random numbers from a normal distribution"
      ]
    },
    {
      "cell_type": "code",
      "execution_count": 88,
      "metadata": {
        "colab": {},
        "colab_type": "code",
        "id": "WIlGfK2Fy3fo"
      },
      "outputs": [
        {
          "name": "stdout",
          "output_type": "stream",
          "text": [
            "10 random numbers from a standard normal distribution:\n",
            "[-1.26020676  0.73993512  2.20526504  0.69410263  0.19982576 -0.66026276\n",
            " -0.41648108 -1.52177767  0.54606256  1.52219211]\n"
          ]
        }
      ],
      "source": [
        "import numpy as np\n",
        "\n",
        "# for the below menitoned function,\n",
        "# loc = Mean (“centre”) of the distribution.\n",
        "# scale = Standard deviation (spread or “width”) of the distribution.\n",
        "# size = Output size\n",
        "# Thus the below function provides us with 10 numbers with a std deviation of 1 and mean of 0\n",
        "rand_num = np.random.normal(loc = 0, scale = 1, size =10)\n",
        "print(\"10 random numbers from a standard normal distribution:\")\n",
        "print(rand_num)"
      ]
    },
    {
      "cell_type": "markdown",
      "metadata": {
        "colab_type": "text",
        "id": "0pun-sR226nC"
      },
      "source": [
        "## Matplotlib\n",
        "\n",
        "---\n",
        "Matplotlib is a multi-platform data visualization library built on NumPy arrays. Matplotlib consists of several plots like line, bar, scatter, histogram etc."
      ]
    },
    {
      "cell_type": "markdown",
      "metadata": {
        "colab_type": "text",
        "id": "X4Kztw193h88"
      },
      "source": [
        "Matplotlib comes with a wide variety of plots. Plots helps to understand trends, patterns, and to make correlations. They’re typically instruments for reasoning about quantitative information. Some of the sample plots are covered here.\n",
        "\n",
        "More plots and example can be found at https://matplotlib.org/tutorials/index.html"
      ]
    },
    {
      "cell_type": "markdown",
      "metadata": {
        "colab_type": "text",
        "id": "twv-cXyE3-YO"
      },
      "source": [
        "##### Plotting lines"
      ]
    },
    {
      "cell_type": "code",
      "execution_count": 89,
      "metadata": {
        "colab": {},
        "colab_type": "code",
        "id": "xUBBdu1s3i59"
      },
      "outputs": [
        {
          "data": {
            "image/png": "[encoded data removed]",
            "text/plain": [
              "<Figure size 640x480 with 1 Axes>"
            ]
          },
          "metadata": {},
          "output_type": "display_data"
        }
      ],
      "source": [
        "# using the pyplot function\n",
        "# importing matplotlib module  \n",
        "from matplotlib import pyplot as plt \n",
        "  \n",
        "# x-axis values \n",
        "x = [1, 2, 3, 4, 5] \n",
        "x1 = [2,4,6,8,10]\n",
        "\n",
        "# Y-axis values \n",
        "y = [10, 9, 8, 7, 6] \n",
        "y1 = [1,2,3,4,5]\n",
        "\n",
        "# Function to plot the two set of points\n",
        "plt.plot(x,y, label='Line 1') \n",
        "plt.plot(x1, y1, label='Line 2')\n",
        "\n",
        "\n",
        "# Setting Names for axis, legends, legend location for axis\n",
        "plt.title('PLotting lines using matplotlib')\n",
        "plt.xlabel('X-Axis', fontsize=18)\n",
        "plt.ylabel('Y Axis', fontsize=16)\n",
        "plt.legend(loc=\"upper right\")\n",
        "\n",
        "# function to show the plot \n",
        "plt.show() "
      ]
    },
    {
      "cell_type": "markdown",
      "metadata": {
        "colab_type": "text",
        "id": "9RDC5-d_4BQl"
      },
      "source": [
        "##### Plotting bar graphs"
      ]
    },
    {
      "cell_type": "code",
      "execution_count": 90,
      "metadata": {
        "colab": {},
        "colab_type": "code",
        "id": "tLXGwI3E4EyX"
      },
      "outputs": [
        {
          "data": {
            "image/png": "[encoded data removed]",
            "text/plain": [
              "<Figure size 640x480 with 1 Axes>"
            ]
          },
          "metadata": {},
          "output_type": "display_data"
        }
      ],
      "source": [
        "# importing matplotlib module  \n",
        "from matplotlib import pyplot as plt \n",
        "  \n",
        "# x-axis values \n",
        "x = [5, 2, 9, 4, 7] \n",
        "  \n",
        "# Y-axis values \n",
        "y = [10, 5, 8, 4, 2] \n",
        "  \n",
        "# Function to plot the bar \n",
        "plt.bar(x,y) \n",
        "  \n",
        "# function to show the plot \n",
        "plt.show() "
      ]
    },
    {
      "cell_type": "markdown",
      "metadata": {
        "colab_type": "text",
        "id": "eC383MBj4Lct"
      },
      "source": [
        "##### Plotting scatter plots"
      ]
    },
    {
      "cell_type": "code",
      "execution_count": 91,
      "metadata": {
        "colab": {},
        "colab_type": "code",
        "id": "hb3M80A14Ntv"
      },
      "outputs": [
        {
          "data": {
            "image/png": "[encoded data removed]",
            "text/plain": [
              "<Figure size 640x480 with 1 Axes>"
            ]
          },
          "metadata": {},
          "output_type": "display_data"
        }
      ],
      "source": [
        "# importing matplotlib module  \n",
        "from matplotlib import pyplot as plt \n",
        "  \n",
        "# x-axis values \n",
        "x = [5, 2, 9, 4, 7] \n",
        "  \n",
        "# Y-axis values \n",
        "y = [10, 5, 8, 4, 2] \n",
        "  \n",
        "# Function to plot scatter \n",
        "plt.scatter(x, y) \n",
        "  \n",
        "# function to show the plot \n",
        "plt.show() "
      ]
    }
  ],
  "metadata": {
    "colab": {
      "collapsed_sections": [
        "kdk-4kw-hhRt",
        "dTBST3neHdCP",
        "tPWucg87n9Pg",
        "f-WqDzAPhB2i",
        "sWrPW4PU0HoI"
      ],
      "include_colab_link": true,
      "name": "Lab 0 : Introduction to python",
      "provenance": [],
      "toc_visible": true
    },
    "kernelspec": {
      "display_name": "base",
      "language": "python",
      "name": "python3"
    },
    "language_info": {
      "codemirror_mode": {
        "name": "ipython",
        "version": 3
      },
      "file_extension": ".py",
      "mimetype": "text/x-python",
      "name": "python",
      "nbconvert_exporter": "python",
      "pygments_lexer": "ipython3",
      "version": "3.9.13"
    },
    "vscode": {
      "interpreter": {
        "hash": "5670a7a3693b8ff0fe0bf345ba9ee3490964f3bae253b3478666f5e7a681ebfa"
      }
    }
  },
  "nbformat": 4,
  "nbformat_minor": 0
}
