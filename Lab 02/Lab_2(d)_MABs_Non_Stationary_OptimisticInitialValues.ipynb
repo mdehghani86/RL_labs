{
  "nbformat": 4,
  "nbformat_minor": 0,
  "metadata": {
    "accelerator": "GPU",
    "colab": {
      "name": "Lab_2(d)_MABs_Non_Stationary_OptimisticInitialValues.ipynb",
      "provenance": [],
      "collapsed_sections": [],
      "include_colab_link": true
    },
    "kernelspec": {
      "display_name": "Python 3",
      "language": "python",
      "name": "python3"
    },
    "language_info": {
      "codemirror_mode": {
        "name": "ipython",
        "version": 3
      },
      "file_extension": ".py",
      "mimetype": "text/x-python",
      "name": "python",
      "nbconvert_exporter": "python",
      "pygments_lexer": "ipython3",
      "version": "3.7.6"
    }
  },
  "cells": [
    {
      "cell_type": "markdown",
      "metadata": {
        "id": "view-in-github",
        "colab_type": "text"
      },
      "source": [
        "<a href=\"https://colab.research.google.com/github/m7saikat/IE-7374/blob/master/Lab_2(d)_MABs_Non_Stationary_OptimisticInitialValues.ipynb\" target=\"_parent\"><img src=\"https://colab.research.google.com/assets/colab-badge.svg\" alt=\"Open In Colab\"/></a>"
      ]
    },
    {
      "cell_type": "markdown",
      "metadata": {
        "colab_type": "text",
        "id": "yiVxsAqw83d2"
      },
      "source": [
        "# Lab2-d  Multi-armed Bandits Problem(Non-Stationary with Optimistic Initial Values)\n",
        "---\n"
      ]
    },
    {
      "cell_type": "markdown",
      "metadata": {
        "id": "8Ar7I2uqmtxk",
        "colab_type": "text"
      },
      "source": [
        "## 1- Introduction"
      ]
    },
    {
      "cell_type": "markdown",
      "metadata": {
        "id": "YEjQsezsmtxl",
        "colab_type": "text"
      },
      "source": [
        "All the methods we have discussed so far are dependent to some extent on the initial action-value estimates. In the language of statistics, these methods are biased by their initial estimates. For the sample-average methods, the bias disappears once all actions have been selected at least once, but for methods with constant α, the bias is permanent, though decreasing over time as given by (2.6). In practice, this kind of bias is usually not a problem and can sometimes be very helpful. The downside is that the initial estimates become, in eﬀect, a set of parameters that must be picked by the user, if only to set them all to zero. The upside is that they provide an easy way to supply some prior knowledge about what level of rewards can be expected. "
      ]
    },
    {
      "cell_type": "markdown",
      "metadata": {
        "colab_type": "text",
        "id": "rzlOaHSBEKUA"
      },
      "source": [
        "Initial action values can also be used as a simple way to encourage exploration. Suppose that instead of setting the initial action values to zero, as we did in the 10-armed testbed, we set them all to $+5$. Recall that the true rewards in this problem are selected from a normal distribution with mean 0 and variance 1. An initial estimate of $+5$ is thus wildly optimistic. But this optimism encourages action-value methods to explore. Whichever actions are initially selected, the reward is less than the starting estimates; the learner switches to other actions, being “disappointed” with the rewards it is receiving. The result is that all actions are tried several times before the value estimates converge. The system does a fair amount of exploration even if greedy actions are selected all the time. "
      ]
    },
    {
      "cell_type": "markdown",
      "metadata": {
        "colab_type": "text",
        "id": "EAH03ZkJFaA5"
      },
      "source": [
        "In this notebook we would compare two greedy-epsilon methods. One with initial $Q_1 = 0$ and another with initial $Q_1 = +5$. We would create the plots and compare the optimal action taken in both the cases."
      ]
    },
    {
      "cell_type": "markdown",
      "metadata": {
        "colab_type": "text",
        "id": "0g4AOuZk_xxm"
      },
      "source": [
        "### Importing Libraries\n",
        "\n",
        "\n",
        "---\n"
      ]
    },
    {
      "cell_type": "code",
      "metadata": {
        "colab_type": "code",
        "id": "eJXL305G7iMd",
        "colab": {}
      },
      "source": [
        "import numpy as np\n",
        "import matplotlib.pyplot as plt"
      ],
      "execution_count": 0,
      "outputs": []
    },
    {
      "cell_type": "markdown",
      "metadata": {
        "id": "rQWE46WNmtxq",
        "colab_type": "text"
      },
      "source": [
        "## 2 - Problem Definition"
      ]
    },
    {
      "cell_type": "markdown",
      "metadata": {
        "colab_type": "text",
        "id": "rQtrr6mfCqov"
      },
      "source": [
        "### Expected initial action value\n",
        "---\n"
      ]
    },
    {
      "cell_type": "code",
      "metadata": {
        "colab_type": "code",
        "id": "DWXXoEv0_yGq",
        "colab": {}
      },
      "source": [
        "# This function generates the true value of actions\n",
        "def expected_action_value_function(mu=0, scale=1, arms=10):\n",
        "    expected_action_value = np.random.uniform(1, -1 , arms)\n",
        "    return expected_action_value"
      ],
      "execution_count": 0,
      "outputs": []
    },
    {
      "cell_type": "markdown",
      "metadata": {
        "colab_type": "text",
        "id": "ION6luKDCPi_"
      },
      "source": [
        "### Adding randomness to the expected action values\n",
        "\n",
        "\n",
        "---\n"
      ]
    },
    {
      "cell_type": "code",
      "metadata": {
        "colab_type": "code",
        "id": "FdQbhmlr1JUl",
        "colab": {}
      },
      "source": [
        "def update_expected_action_value(expected_action_value):\n",
        "    expected_action_value += np.random.normal(0, 0.01, arms) \n",
        "    return(expected_action_value)"
      ],
      "execution_count": 0,
      "outputs": []
    },
    {
      "cell_type": "markdown",
      "metadata": {
        "colab_type": "text",
        "id": "IeIpdtD7E8ME"
      },
      "source": [
        "###  Reward function\n",
        "---"
      ]
    },
    {
      "cell_type": "code",
      "metadata": {
        "colab_type": "code",
        "id": "R-PhM4kO7iMn",
        "colab": {}
      },
      "source": [
        "def reward_function(action_taken, expected_action_value,scale=1):\n",
        "    reward = expected_action_value [action_taken] + np.random.normal(scale) # reward=N(Mu,1) or Mu+N(0,1)\n",
        "    return reward"
      ],
      "execution_count": 0,
      "outputs": []
    },
    {
      "cell_type": "markdown",
      "metadata": {
        "id": "A5D8yUe0mtxy",
        "colab_type": "text"
      },
      "source": [
        "## 3 - Implementation"
      ]
    },
    {
      "cell_type": "markdown",
      "metadata": {
        "colab_type": "text",
        "id": "c0jcl1pKIW2d"
      },
      "source": [
        "### Methods 1:  <span style=\"color:blue\">$\\epsilon-greedy$</span>  function \n",
        "\n",
        "---"
      ]
    },
    {
      "cell_type": "code",
      "metadata": {
        "colab_type": "code",
        "id": "2-CvdBvc7iMo",
        "colab": {}
      },
      "source": [
        "# Define the e-greedy funtion\n",
        "def e_greedy(estimate_action_value,e,arms): \n",
        "    # genereate a random num (0,1) to be compared with epsilon\n",
        "    e_estimator = np.random.uniform(0, 1) \n",
        "    # epsilon-greedy appraoch\n",
        "    action = np.argmax(estimate_action_value) if e_estimator > e else np.random.choice(np.arange(arms))\n",
        "    return action"
      ],
      "execution_count": 0,
      "outputs": []
    },
    {
      "cell_type": "markdown",
      "metadata": {
        "colab_type": "text",
        "id": "mJVW2Z-NLLQW"
      },
      "source": [
        "### Action Value estimation-  <span style=\"color:blue\">Method 2: Weighted Average approach</span> \n",
        "\n",
        "---\n",
        "\n",
        "\n"
      ]
    },
    {
      "cell_type": "code",
      "metadata": {
        "colab_type": "code",
        "id": "c0hLOn0R7iMq",
        "colab": {}
      },
      "source": [
        "# Define estimate_action_value function (using sample average method)\n",
        "def weighted_average (estimate_action_value, action, reward, alpha):\n",
        "  estimate_action_value[action] = estimate_action_value[action] + alpha * (reward - estimate_action_value[action])\n",
        "  return estimate_action_value"
      ],
      "execution_count": 0,
      "outputs": []
    },
    {
      "cell_type": "markdown",
      "metadata": {
        "colab_type": "text",
        "id": "Nb5WpeerHjLu"
      },
      "source": [
        "### <span style=\"color:red\">K-armed bandit problem</span>\n",
        "\n",
        "---\n",
        "\n",
        "The only differnece here with the other problems we have seen so far is that this problem also takes in initial $Q_1$ values"
      ]
    },
    {
      "cell_type": "code",
      "metadata": {
        "colab_type": "code",
        "id": "VhMIi0g91SI0",
        "colab": {}
      },
      "source": [
        "def multi_arm_bandit_problem(alpha = 0.1, arms = 10, steps = 1000, e = 0.1, expected_action_value = [],scale=1, initial_q1 = 0 ):\n",
        "    # Initilization \n",
        "    overall_reward, optimal_action = [], [] \n",
        "\n",
        "    # Initial Action values is set to initial_q1\n",
        "    estimate_action_value = np.zeros(arms) + initial_q1\n",
        "\n",
        "    #number of times is action (arm) is taken \n",
        "    count = np.zeros(arms) \n",
        "\n",
        "    # Main loop\n",
        "    for s in range(0, steps):\n",
        "\n",
        "        # Select an action\n",
        "        action=e_greedy(estimate_action_value,e, arms)\n",
        "\n",
        "        # Adding randomness to the action value for each bandit problem,\n",
        "        # thus simulating variable rewards over time. This segment makes a stationary\n",
        "        # reward system, non-stationary.\n",
        "        expected_action_value = update_expected_action_value(expected_action_value) \n",
        "\n",
        "        # Observe the reward for the selected Action\n",
        "        reward = reward_function(action, expected_action_value,scale)\n",
        "\n",
        "        # Update Estimates of Action Value for the selected Action based on its observed Reward\n",
        "        estimate_action_value=weighted_average(estimate_action_value, action, reward, alpha)\n",
        "        \n",
        "        # Update rewards' list\n",
        "        overall_reward.append(reward)\n",
        "\n",
        "        # If the optimal action is taken\n",
        "        optimal_action.append(action == np.argmax(expected_action_value))\n",
        "\n",
        "        # Increment the number of times the selected action is takern\n",
        "        count[action] += 1\n",
        "        \n",
        "    return overall_reward, optimal_action"
      ],
      "execution_count": 0,
      "outputs": []
    },
    {
      "cell_type": "markdown",
      "metadata": {
        "colab_type": "text",
        "id": "N6N8k3xRxq8j"
      },
      "source": [
        "### Multi-arm testbed\n",
        "\n",
        "---"
      ]
    },
    {
      "cell_type": "code",
      "metadata": {
        "colab_type": "code",
        "id": "23bIkApd1Udy",
        "colab": {}
      },
      "source": [
        "def run_game(alpha, epsilon, runs = 10, steps = 1000, arms = 10, initial_q1 = 0):\n",
        "    rewards = np.zeros((runs, steps))\n",
        "    optimal_actions = np.zeros((runs, steps))\n",
        "    expected_action_value = expected_action_value_function(1, -1 , arms=arms)\n",
        "    for run in range(0, runs):\n",
        "        rewards[run][:], optimal_actions[run][:] = multi_arm_bandit_problem(alpha= alpha, \n",
        "                                                                             arms = arms, \n",
        "                                                                             steps = steps,\n",
        "                                                                             e = epsilon,\n",
        "                                                                            expected_action_value = expected_action_value,\n",
        "                                                                             initial_q1 = initial_q1,)\n",
        "    rewards_avg = np.average(rewards, axis = 0)\n",
        "    optimal_action_perc = np.average(optimal_actions, axis = 0)\n",
        "    return(rewards_avg, optimal_action_perc)"
      ],
      "execution_count": 0,
      "outputs": []
    },
    {
      "cell_type": "markdown",
      "metadata": {
        "colab_type": "text",
        "id": "u6zGVgW-xt1P"
      },
      "source": [
        "### Plotting the reward performance and optimal action percentage of the agents with different epsilon values.\n",
        "\n",
        "\n",
        "---"
      ]
    },
    {
      "cell_type": "markdown",
      "metadata": {
        "colab_type": "text",
        "id": "DQZHNIPlxug1"
      },
      "source": [
        "\n",
        "1. Scenario with epsilon value of 0.1, Q1 0 : Blue \n",
        "2. Scenario with epsilon value of 0.0, Q1 5 : Orange  "
      ]
    },
    {
      "cell_type": "code",
      "metadata": {
        "id": "9czWyCHkmtx9",
        "colab_type": "code",
        "colab": {}
      },
      "source": [
        "# Number of arms of bandits.\n",
        "arms=10\n",
        "\n",
        "# Numner of episodes in each run\n",
        "steps = 5000\n",
        "\n",
        "# Total number of runs\n",
        "runs = 5000   \n",
        "\n",
        "# Default initial Estimated Action Value for each arm\n",
        "initial_q1 = 0 \n",
        "\n",
        "# We denote the step-size parameter by α (aplha).\n",
        "alpha=0.1\n",
        "\n",
        "# The list of initial Q1 estimates for both the plots\n",
        "initial_qs = [0, 5]\n",
        "\n",
        "# The list of corresponding epsilon values for both the plots\n",
        "epsilons = [0.1, 0.0]"
      ],
      "execution_count": 0,
      "outputs": []
    },
    {
      "cell_type": "code",
      "metadata": {
        "colab_type": "code",
        "id": "m70JxcdKCD0v",
        "outputId": "89099fe8-4544-445b-b0a5-b30b8e088b9b",
        "colab": {
          "base_uri": "https://localhost:8080/",
          "height": 67
        }
      },
      "source": [
        "# Running the Experiment with different Epsilon and Q1 Values\n",
        "rewards_avg_by_epsilon = dict()\n",
        "optimal_action_perc_by_epsilon = dict()\n",
        "for initial_q1, epsilon in zip(initial_qs, epsilons):\n",
        "    print('Running for epsilon: {} and Q1: {}...'.format(epsilon, initial_q1))\n",
        "    rewards_avg, optimal_action_perc = run_game(alpha, epsilon, runs, steps, arms, initial_q1)\n",
        "    rewards_avg_by_epsilon[initial_q1] = rewards_avg\n",
        "    optimal_action_perc_by_epsilon[initial_q1] = optimal_action_perc\n",
        "print('Experiment is complete') "
      ],
      "execution_count": 0,
      "outputs": [
        {
          "output_type": "stream",
          "text": [
            "Running for epsilon: 0.1 and Q1: 0...\n",
            "Running for epsilon: 0.0 and Q1: 5...\n",
            "Experiment is complete\n"
          ],
          "name": "stdout"
        }
      ]
    },
    {
      "cell_type": "markdown",
      "metadata": {
        "colab_type": "text",
        "id": "MAczN8cdxzkG"
      },
      "source": [
        "Once we have the reward performance and optimal action from the test bed, we can now plot the graphs using the in-built function `plot` of matplotlib."
      ]
    },
    {
      "cell_type": "code",
      "metadata": {
        "colab_type": "code",
        "id": "AR9DmalUbSR4",
        "outputId": "c2f159ad-3b30-4545-c615-899979c67144",
        "colab": {
          "base_uri": "https://localhost:8080/",
          "height": 421
        }
      },
      "source": [
        "f, ax = plt.subplots(nrows=1, ncols=1,figsize=(14, 6))\n",
        "for initial_q1, epsilon in zip(initial_qs, epsilons):\n",
        "    ax.plot(range(steps), optimal_action_perc_by_epsilon[initial_q1], label='Q1={} e={}'.format(initial_q1, epsilon))\n",
        "ax.legend(loc='lower right')\n",
        "plt.title(' The eﬀect of optimistic initial action-value estimates on the 10-armed testbed. Both methods used a constant step-size parameter, α = 0.1.')\n",
        "plt.xlabel('Steps')\n",
        "plt.ylabel('Optimal action (in fraction)')"
      ],
      "execution_count": 0,
      "outputs": [
        {
          "output_type": "execute_result",
          "data": {
            "text/plain": [
              "Text(0, 0.5, 'Optimal action (in fraction)')"
            ]
          },
          "metadata": {
            "tags": []
          },
          "execution_count": 216
        },
        {
          "output_type": "display_data",
          "data": {
            "image/png": "[encoded data removed]",
            "text/plain": [
              "<Figure size 1008x432 with 1 Axes>"
            ]
          },
          "metadata": {
            "tags": []
          }
        }
      ]
    }
  ]
}